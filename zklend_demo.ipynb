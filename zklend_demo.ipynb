{
 "cells": [
  {
   "cell_type": "markdown",
   "id": "79e6dcb2",
   "metadata": {},
   "source": [
    "# TODO: Zklend"
   ]
  },
  {
   "cell_type": "code",
   "execution_count": 1,
   "id": "e6a89c81",
   "metadata": {},
   "outputs": [],
   "source": [
    "from typing import Dict\n",
    "\n",
    "import IPython.display\n",
    "import pandas\n",
    "\n",
    "import src.classes as classes\n",
    "import src.constants as constants\n",
    "from src.constants import TOKEN_DECIMAL_FACTORS, COLLATERAL_FACTORS, LIQUIDATION_BONUSES\n",
    "import src.db as db"
   ]
  },
  {
   "cell_type": "markdown",
   "id": "a0023a62",
   "metadata": {},
   "source": [
    "## Load and prepare events"
   ]
  },
  {
   "cell_type": "code",
   "execution_count": 2,
   "id": "2ad266bc",
   "metadata": {},
   "outputs": [
    {
     "name": "stderr",
     "output_type": "stream",
     "text": [
      "/tmp/ipykernel_71972/340515258.py:5: UserWarning: pandas only supports SQLAlchemy connectable (engine/connection) or database string URI or sqlite3 DBAPI2 connection. Other DBAPI2 objects are not tested. Please consider using SQLAlchemy.\n",
      "  zklend_events = pandas.read_sql(\n"
     ]
    }
   ],
   "source": [
    "# Establish the connection.\n",
    "connection = db.establish_connection()\n",
    "\n",
    "# Load all Zklend events.\n",
    "zklend_events = pandas.read_sql(\n",
    "    sql = \n",
    "    f\"\"\"\n",
    "    SELECT\n",
    "        *\n",
    "    FROM\n",
    "        starkscan_events\n",
    "    WHERE\n",
    "        from_address='{constants.Protocol.ZKLEND.value}'\n",
    "    AND\n",
    "        key_name IN ('Deposit', 'Withdrawal', 'CollateralEnabled', 'CollateralDisabled', 'Borrowing', 'Repayment', 'Liquidation', 'AccumulatorsSync')\n",
    "    ORDER BY\n",
    "        block_number, id ASC;\n",
    "    \"\"\",\n",
    "    con = connection,\n",
    ")\n",
    "\n",
    "# Close the connection.\n",
    "connection.close()"
   ]
  },
  {
   "cell_type": "code",
   "execution_count": 3,
   "id": "d8cc1563",
   "metadata": {},
   "outputs": [],
   "source": [
    "zklend_events.set_index('id', inplace = True)"
   ]
  },
  {
   "cell_type": "markdown",
   "id": "050eb37d",
   "metadata": {},
   "source": [
    "# Process events"
   ]
  },
  {
   "cell_type": "markdown",
   "id": "95c2eeef",
   "metadata": {},
   "source": [
    "Events examples:\n",
    "- [Deposit](https://starkscan.co/event/0x036185142bb51e2c1f5bfdb1e6cef81f8ea87fd4d777990014249bf5435fd31b_3)\n",
    "- [AccumulatorsSync](https://starkscan.co/event/0x029628b89875a98c1c64ae206e7eb65669cb478a24449f3485f5e98aba6204dc_0)\n",
    "- [CollateralEnabled](https://starkscan.co/event/0x036185142bb51e2c1f5bfdb1e6cef81f8ea87fd4d777990014249bf5435fd31b_6)\n",
    "- [CollateralDisabled](https://starkscan.co/event/0x0049b445bed84e0118795dbd22d76610ccac2ad626f8f04a1fc7e38113c2afe7_0)\n",
    "- [Withdrawal](https://starkscan.co/event/0x03472cf7511687a55bc7247f8765c4bbd2c18b70e09b2a10a77c61f567bfd2cb_4)\n",
    "- [Borrowing](https://starkscan.co/event/0x076b1615750528635cf0b63ca80986b185acbd20fa37f0f2b5368a4f743931f8_3)\n",
    "- [Repayment](https://starkscan.co/event/0x06fa3dd6e12c9a66aeacd2eefa5a2ff2915dd1bb4207596de29bd0e8cdeeae66_5)\n",
    "- [Liquidation](https://starkscan.co/event/0x07b8ec709df1066d9334d56b426c45440ca1f1bb841285a5d7b33f9d1008f256_5)"
   ]
  },
  {
   "cell_type": "code",
   "execution_count": 4,
   "id": "d39cc54c",
   "metadata": {},
   "outputs": [
    {
     "name": "stdout",
     "output_type": "stream",
     "text": [
      "colena USDT\n",
      "dep ETH 9999998267994.552662226162473\n",
      "colena ETH\n",
      "bor USDC 15564\n"
     ]
    }
   ],
   "source": [
    "# Iterate over ordered events to obtain the final state of each user.\n",
    "state = classes.State()\n",
    "# bns = set()  # TODO\n",
    "for _, event in zklend_events.iterrows():\n",
    "#     bns.update({event['block_number']})  # TODO\n",
    "    # TODO: save the timestamp/block number of each update?\n",
    "    state.process_event(event = event)\n",
    "# sorted([x for x in range(min(bns), max(bns)) if x + 1 not in bns])[-200:]  # TODO"
   ]
  },
  {
   "cell_type": "code",
   "execution_count": 5,
   "id": "198c50b4",
   "metadata": {},
   "outputs": [],
   "source": [
    "# Get current prices of tokens.\n",
    "prices = classes.Prices()"
   ]
  },
  {
   "cell_type": "markdown",
   "id": "bdff3cdf",
   "metadata": {},
   "source": [
    "# Compute health factors\n",
    "\n",
    "TODO: This part is new. Will be refactored."
   ]
  },
  {
   "cell_type": "code",
   "execution_count": 6,
   "id": "1992bd4b",
   "metadata": {},
   "outputs": [],
   "source": [
    "# TODO\n",
    "from typing import Dict\n",
    "import collections\n",
    "import decimal\n",
    "\n",
    "\n",
    "def compute_risk_adjusted_collateral_usd(\n",
    "    user_state: classes.UserState,\n",
    "    prices: Dict[str, decimal.Decimal],\n",
    ") -> decimal.Decimal:\n",
    "    return sum(\n",
    "        token_state.collateral_enabled\n",
    "        * token_state.deposit\n",
    "        * COLLATERAL_FACTORS[token]\n",
    "        * prices[token]\n",
    "        # TODO: perform the conversion using TOKEN_DECIMAL_FACTORS sooner (in `UserTokenState`?)?\n",
    "        / TOKEN_DECIMAL_FACTORS[token]\n",
    "        for token, token_state\n",
    "        in user_state.token_states.items()\n",
    "        if not token_state.z_token\n",
    "    )\n",
    "\n",
    "\n",
    "def compute_borrowings_usd(\n",
    "    user_state: classes.UserState,\n",
    "    prices: Dict[str, decimal.Decimal],\n",
    ") -> decimal.Decimal:\n",
    "    return sum(\n",
    "        token_state.borrowings\n",
    "        * prices[token]\n",
    "        # TODO: perform the conversion using TOKEN_DECIMAL_FACTORS sooner (in `UserTokenState`?)?\n",
    "        / TOKEN_DECIMAL_FACTORS[token]\n",
    "        for token, token_state\n",
    "        in user_state.token_states.items()\n",
    "        if not token_state.z_token\n",
    "    )\n",
    "\n",
    "\n",
    "def compute_health_factor(\n",
    "    risk_adjusted_collateral_usd: decimal.Decimal,\n",
    "    borrowings_usd: decimal.Decimal,\n",
    ") -> decimal.Decimal:\n",
    "    if borrowings_usd == decimal.Decimal('0'):\n",
    "        # TODO: assumes collateral is positive\n",
    "        return decimal.Decimal('Inf')\n",
    "\n",
    "    health_factor = risk_adjusted_collateral_usd / borrowings_usd\n",
    "    # TODO: enable?\n",
    "#     if health_factor < decimal.Decimal('0.9'):\n",
    "#         print(f'Suspiciously low health factor = {health_factor} of user = {user}, investigate.')\n",
    "    # TODO: too many loans eligible for liquidation?\n",
    "#     elif health_factor < decimal.Decimal('1'):\n",
    "#         print(f'Health factor = {health_factor} of user = {user} eligible for liquidation.')\n",
    "    return health_factor"
   ]
  },
  {
   "cell_type": "code",
   "execution_count": 18,
   "id": "44250992",
   "metadata": {
    "scrolled": false
   },
   "outputs": [
    {
     "name": "stdout",
     "output_type": "stream",
     "text": [
      "0x6897baf821107eec082d304f49259503030528e7c3eff547c278437e458c983 0.8505281741681594513100051621\n",
      "0x3453094e8d09567be57e428e126c944928e76ced061478b910355b4d0c7bebd 0.8382683371284382225663307822\n",
      "0x6fe71a1812af7f94941a932458937b66b04b2b761ed42a21b4e53042c9fc72f 0.8665301299891762864163546513\n",
      "0x536e4caaa66d2ec3d2d3088b9dece55427969bf5208090bd4af94a91a507b59 0.0002003783628182605591731910642\n",
      "0x41b153835683834192ce9d23100977f7483f60b294d1c32c847f68e943af498 -0E-33\n",
      "0x762079dbc8ab4b27531c811638569c576e9a87daa108a955639f8c6506b7395 -0.0001154829888664887622926879397\n"
     ]
    }
   ],
   "source": [
    "# TODO\n",
    "for user, user_state in state.user_states.items():\n",
    "    risk_adjusted_collateral_usd = compute_risk_adjusted_collateral_usd(\n",
    "        user_state = user_state,\n",
    "        prices = prices.prices,\n",
    "    )\n",
    "    borrowings_usd = compute_borrowings_usd(\n",
    "        user_state = user_state,\n",
    "        prices = prices.prices,\n",
    "    )\n",
    "    health_factor = compute_health_factor(\n",
    "        risk_adjusted_collateral_usd = risk_adjusted_collateral_usd,\n",
    "        borrowings_usd = borrowings_usd,\n",
    "    )\n",
    "    user_state.health_factor = health_factor\n",
    "    if health_factor < 0.89:\n",
    "        print(user, health_factor)"
   ]
  },
  {
   "cell_type": "markdown",
   "id": "d1c00ee1",
   "metadata": {},
   "source": [
    "# Compute max liquidated borrowings\n",
    "\n",
    "TODO: This part is new. Will be refactored."
   ]
  },
  {
   "cell_type": "code",
   "execution_count": 8,
   "id": "6b38c8c8",
   "metadata": {},
   "outputs": [],
   "source": [
    "# TODO\n",
    "# TODO: compute_health_factor, etc. should be methods of class UserState\n",
    "def compute_borrowings_to_be_liquidated(\n",
    "    risk_adjusted_collateral_usd: decimal.Decimal,\n",
    "    borrowings_usd: decimal.Decimal,\n",
    "    borrowings_token_price: decimal.Decimal,\n",
    "    collateral_token_collateral_factor: decimal.Decimal,\n",
    "    collateral_token_liquidation_bonus: decimal.Decimal,\n",
    ") -> decimal.Decimal:\n",
    "    # TODO: commit the derivation of the formula in a document?\n",
    "    numerator = borrowings_usd - risk_adjusted_collateral_usd\n",
    "    denominator = borrowings_token_price * (\n",
    "        1 - collateral_token_collateral_factor * (\n",
    "            1 + collateral_token_liquidation_bonus\n",
    "        )\n",
    "    )\n",
    "    return numerator / denominator\n",
    "\n",
    "\n",
    "def compute_max_liquidated_amount(\n",
    "    state: classes.State,\n",
    "    prices: Dict[str, decimal.Decimal],\n",
    "    borrowings_token: str,\n",
    ") -> decimal.Decimal:\n",
    "    liquidated_borrowings_amount = decimal.Decimal('0')\n",
    "    for user, user_state in state.user_states.items():\n",
    "        # TODO: do this?\n",
    "        # Filter out users who borrowed the token of interest.\n",
    "        borrowings_tokens = {\n",
    "            token_state.token\n",
    "            for token_state in user_state.token_states.values()\n",
    "            if token_state.borrowings > decimal.Decimal('0')\n",
    "        }\n",
    "        if not borrowings_token in borrowings_tokens:\n",
    "            continue\n",
    "\n",
    "        # Filter out users with health below 1.\n",
    "        risk_adjusted_collateral_usd = compute_risk_adjusted_collateral_usd(\n",
    "            user_state = user_state,\n",
    "            prices = prices,\n",
    "        )\n",
    "        borrowings_usd = compute_borrowings_usd(\n",
    "            user_state = user_state,\n",
    "            prices = prices,\n",
    "        )\n",
    "        health_factor = compute_health_factor(\n",
    "            risk_adjusted_collateral_usd = risk_adjusted_collateral_usd,\n",
    "            borrowings_usd = borrowings_usd,\n",
    "        )\n",
    "        # TODO\n",
    "#         if health_factor >= decimal.Decimal('1') or health_factor <= decimal.Decimal('0'):\n",
    "        if health_factor >= decimal.Decimal('1'):\n",
    "            continue\n",
    "\n",
    "        # TODO: find out how much of the borrowings_token will be liquidated\n",
    "        collateral_tokens = {\n",
    "            token_state.token\n",
    "            for token_state in user_state.token_states.values()\n",
    "            if token_state.deposit * token_state.collateral_enabled != decimal.Decimal('0')\n",
    "        }\n",
    "        # TODO: choose the most optimal collateral_token to be liquidated .. or is the liquidator indifferent?\n",
    "        print(user, collateral_tokens, health_factor, borrowings_usd, risk_adjusted_collateral_usd)\n",
    "        collateral_token = list(collateral_tokens)[0]\n",
    "        liquidated_borrowings_amount += compute_borrowings_to_be_liquidated(\n",
    "            risk_adjusted_collateral_usd = risk_adjusted_collateral_usd,\n",
    "            borrowings_usd = borrowings_usd,\n",
    "            borrowings_token_price = prices[borrowings_token],\n",
    "            collateral_token_collateral_factor = COLLATERAL_FACTORS[collateral_token],\n",
    "            collateral_token_liquidation_bonus = LIQUIDATION_BONUSES[collateral_token],\n",
    "        )\n",
    "    return liquidated_borrowings_amount"
   ]
  },
  {
   "cell_type": "markdown",
   "id": "9f0707f7",
   "metadata": {},
   "source": [
    "## Single price change"
   ]
  },
  {
   "cell_type": "code",
   "execution_count": null,
   "id": "68ea2953",
   "metadata": {},
   "outputs": [],
   "source": [
    "# TODO\n",
    "# TODO: adjust prices and observe the amounts\n",
    "import copy\n",
    "\n",
    "\n",
    "COLLATERAL_TOKEN = 'wBTC'\n",
    "BORROWINGS_TOKEN = 'USDC'\n",
    "COLLATERAL_TOKEN_PRICE = decimal.Decimal('1500')\n",
    "\n",
    "\n",
    "def simulate_liquidations_under_absolute_price_change(\n",
    "    prices: classes.Prices,\n",
    "    collateral_token: str,\n",
    "    collateral_token_price: decimal.Decimal,\n",
    "    state: classes.State,\n",
    "    borrowings_token: str,\n",
    ") -> decimal.Decimal:\n",
    "    changed_prices = copy.deepcopy(prices.prices)\n",
    "    changed_prices[collateral_token] = collateral_token_price\n",
    "    return compute_max_liquidated_amount(state = state, prices = changed_prices, borrowings_token = borrowings_token)\n",
    "\n",
    "\n",
    "simulate_liquidations_under_absolute_price_change(\n",
    "    prices = prices,\n",
    "    collateral_token = COLLATERAL_TOKEN,\n",
    "    collateral_token_price = COLLATERAL_TOKEN_PRICE,\n",
    "    state = state,\n",
    "    borrowings_token = BORROWINGS_TOKEN,\n",
    ")"
   ]
  },
  {
   "cell_type": "code",
   "execution_count": null,
   "id": "c9c79ffb",
   "metadata": {},
   "outputs": [],
   "source": [
    "# # TODO: debug negative deposits\n",
    "# for x, y in state.user_states['0x204c44e83f63803bcae77406aa749636d23d3c914e4aa9c84f89f45bad0f844'].token_states.items():\n",
    "#     print(x)\n",
    "#     print(y.deposit)\n",
    "#     print(y.collateral_enabled)\n",
    "#     print(y.borrowings)"
   ]
  },
  {
   "cell_type": "markdown",
   "id": "b2fe813a",
   "metadata": {},
   "source": [
    "## Range of price changes"
   ]
  },
  {
   "cell_type": "markdown",
   "id": "866b0a77",
   "metadata": {},
   "source": [
    "### Nominal price change"
   ]
  },
  {
   "cell_type": "code",
   "execution_count": null,
   "id": "c9ccdd0b",
   "metadata": {},
   "outputs": [],
   "source": [
    "# TODO: adjust prices and observe the amounts\n",
    "import numpy\n",
    "\n",
    "\n",
    "COLLATERAL_TOKEN = 'ETH'\n",
    "BORROWINGS_TOKEN = 'USDC'\n",
    "\n",
    "\n",
    "def decimal_range(start: decimal.Decimal, stop: decimal.Decimal, step: decimal.Decimal):\n",
    "    while start < stop:\n",
    "        yield start\n",
    "        start += step\n",
    "\n",
    "\n",
    "data = pandas.DataFrame(\n",
    "    {\n",
    "        'collateral_token_price': [\n",
    "            x\n",
    "            for x\n",
    "            in decimal_range(\n",
    "                # TODO: make it dependent on the collateral token .. use prices.prices[COLLATERAL_TOKEN]\n",
    "                start = decimal.Decimal('1000'),\n",
    "                stop = decimal.Decimal('3000'),\n",
    "                # TODO: make it dependent on the collateral token\n",
    "                step = decimal.Decimal('50'),\n",
    "            )\n",
    "        ]\n",
    "    },\n",
    ")\n",
    "# TOOD: needed?\n",
    "# data['collateral_token_price_multiplier'] = data['collateral_token_price_multiplier'].map(decimal.Decimal)\n",
    "data['max_borrowings_to_be_liquidated'] = \\\n",
    "    data['collateral_token_price'].apply(\n",
    "        lambda x: simulate_liquidations_under_absolute_price_change(\n",
    "            prices = prices,\n",
    "            collateral_token = COLLATERAL_TOKEN,\n",
    "            collateral_token_price = x,\n",
    "            state = state,\n",
    "            borrowings_token = BORROWINGS_TOKEN,\n",
    "        )\n",
    "    )\n",
    "\n",
    "data['max_borrowings_to_be_liquidated_at_interval'] = data['max_borrowings_to_be_liquidated'].diff().abs()\n",
    "# TODO: drops also other NaN, if there are any\n",
    "data.dropna(inplace = True)\n",
    "data"
   ]
  },
  {
   "cell_type": "code",
   "execution_count": null,
   "id": "2d6a08db",
   "metadata": {},
   "outputs": [],
   "source": [
    "# Setup the AMM.\n",
    "import swap_liquidity\n",
    "\n",
    "\n",
    "jediswap = swap_liquidity.SwapAmm('JediSwap')\n",
    "jediswap.add_pool('ETH', 'USDC', '0x04d0390b777b424e43839cd1e744799f3de6c176c7e32c1812a41dbd9c19db6a')\n",
    "await jediswap.get_balance()\n",
    "\n",
    "\n",
    "def get_amm_supply_at_price(\n",
    "    collateral_token: str,\n",
    "    collateral_token_price: decimal.Decimal,\n",
    "    borrowings_token: str,\n",
    ") -> decimal.Decimal:\n",
    "    return jediswap.get_pool(collateral_token, borrowings_token).supply_at_price(borrowings_token, collateral_token_price)\n",
    "\n",
    "\n",
    "data['amm_borrowings_token_supply'] = \\\n",
    "    data['collateral_token_price'].apply(\n",
    "        lambda x: get_amm_supply_at_price(\n",
    "            collateral_token = COLLATERAL_TOKEN,\n",
    "            collateral_token_price = x,\n",
    "            borrowings_token = BORROWINGS_TOKEN,\n",
    "        )\n",
    "    )\n",
    "data"
   ]
  },
  {
   "cell_type": "markdown",
   "id": "f736a120",
   "metadata": {},
   "source": [
    "## Plot the liquidated and supply amounts"
   ]
  },
  {
   "cell_type": "code",
   "execution_count": null,
   "id": "a165e665",
   "metadata": {},
   "outputs": [],
   "source": [
    "import plotly.express\n",
    "\n",
    "\n",
    "figure = plotly.express.bar(\n",
    "    data.astype(float),\n",
    "    x = 'collateral_token_price',\n",
    "    y = ['max_borrowings_to_be_liquidated_at_interval', 'amm_borrowings_token_supply'],\n",
    "    title = f'Potentially liquidatable amounts of {BORROWINGS_TOKEN} and the corresponding supply',\n",
    "    barmode = 'overlay',\n",
    "    opacity = 0.65,\n",
    ")\n",
    "figure.show()"
   ]
  },
  {
   "cell_type": "markdown",
   "id": "2aa4c259",
   "metadata": {},
   "source": [
    "# Debugging negative deposits below\n",
    "\n",
    "TODO: remove later"
   ]
  },
  {
   "cell_type": "code",
   "execution_count": null,
   "id": "c914fc0f",
   "metadata": {
    "scrolled": false
   },
   "outputs": [],
   "source": [
    "# TODO: negative deposits?\n",
    "print(\"Action   Token   Raw value   Raw $   Readable $\")\n",
    "for attr in ['deposit', 'borrowings']:\n",
    "    for token in ['ETH', 'wBTC', 'USDC', 'DAI', 'USDT']:\n",
    "        values = [getattr(user_state.token_states[token], attr) for user, user_state in state.user_states.items()]\n",
    "        print(attr, token, pandas.Series(values).min(), f\"${prices.to_dollars(pandas.Series(values).min(), token)}\", prices.to_dollars_pretty(pandas.Series(values).min(), token))"
   ]
  },
  {
   "cell_type": "code",
   "execution_count": null,
   "id": "c5d29ea2",
   "metadata": {},
   "outputs": [],
   "source": [
    "# TODO: show negative deposits\n",
    "[\n",
    "    (user, user_state.token_states['USDT'].deposit)\n",
    "    for user, user_state\n",
    "    in state.user_states.items()\n",
    "    if user_state.token_states['USDT'].deposit < 0\n",
    "]"
   ]
  },
  {
   "cell_type": "code",
   "execution_count": 76,
   "id": "77c3d0d3",
   "metadata": {},
   "outputs": [],
   "source": [
    "class BadUser:\n",
    "    def __init__(self, address, user_state):\n",
    "        self.health_factor = user_state.health_factor\n",
    "        self.address = address\n",
    "        self.loan_size = decimal.Decimal(\"0\")\n",
    "        self.collateral_size = decimal.Decimal(\"0\")\n",
    "        self.collateral = {}\n",
    "        self.borrowings = {}\n",
    "        self.formatted_collateral = \"\"\n",
    "        self.formatted_borrowings = \"\"\n",
    "        self.calculate(user_state)\n",
    "        self.format()\n",
    "\n",
    "    def calculate(self, user_state):\n",
    "        for token, token_state in user_state.token_states.items():\n",
    "            if token_state.z_token:\n",
    "                continue\n",
    "            if token_state.borrowings > decimal.Decimal(\"0\"):\n",
    "                tokens = token_state.borrowings / TOKEN_DECIMAL_FACTORS[token]\n",
    "                self.borrowings[token] = self.borrowings.get(token, decimal.Decimal(\"0\")) + tokens\n",
    "                self.loan_size += tokens * prices.prices[token]\n",
    "            if token_state.collateral_enabled and token_state.deposit > decimal.Decimal(\"0\"):\n",
    "                tokens = token_state.deposit / TOKEN_DECIMAL_FACTORS[token]\n",
    "                self.collateral[token] = self.collateral.get(token, decimal.Decimal(\"0\")) + tokens\n",
    "                self.collateral_size += tokens * prices.prices[token] * COLLATERAL_FACTORS[token]\n",
    "    \n",
    "    def format(self):\n",
    "        for token, size in self.collateral.items():\n",
    "            if self.formatted_collateral != \"\":\n",
    "                self.formatted_collateral += \", \"\n",
    "            formatted_size = format(size, \".2f\")\n",
    "            self.formatted_collateral += f\"{token}: {formatted_size}\"\n",
    "        for token, size in self.borrowings.items():\n",
    "            if self.formatted_borrowings != \"\":\n",
    "                self.formatted_borrowings += \", \"\n",
    "            formatted_size = format(size, \".2f\")\n",
    "            self.formatted_borrowings += f\"{token}: {formatted_size}\"\n",
    "\n",
    "\n",
    "small_bad_users = []\n",
    "big_bad_users = []\n",
    "\n",
    "for user, user_state in state.user_states.items():\n",
    "    if user_state.health_factor < 1 and user_state.health_factor > 0.7:\n",
    "        bad_user = BadUser(address=user, user_state=user_state)\n",
    "        if bad_user.loan_size > 100:\n",
    "            big_bad_users.append(bad_user)\n",
    "        else:\n",
    "            small_bad_users.append(bad_user)\n",
    "\n",
    "big_bad_users = sorted(big_bad_users, key=lambda x: x.health_factor, reverse=False)\n",
    "small_bad_users = sorted(small_bad_users, key=lambda x: x.health_factor, reverse=False)\n"
   ]
  },
  {
   "cell_type": "code",
   "execution_count": 81,
   "id": "b11300e7",
   "metadata": {},
   "outputs": [
    {
     "name": "stdout",
     "output_type": "stream",
     "text": [
      "big bad users\n"
     ]
    }
   ],
   "source": [
    "n = 20\n",
    "print(\"big bad users\")\n",
    "\n",
    "bbu_data = {\n",
    "    \"User\": [user.address for user in big_bad_users[:n]],\n",
    "    \"Health factor\": [user.health_factor for user in big_bad_users[:n]],\n",
    "    \"Borrowing in USD\": [user.loan_size for user in big_bad_users[:n]],\n",
    "    \"Risk adjusted collateral in USD\": [user.collateral_size for user in big_bad_users[:n]],\n",
    "    \"Collateral\": [user.formatted_collateral for user in big_bad_users[:n]],\n",
    "    \"Borrowings\": [user.formatted_borrowings for user in big_bad_users[:n]],\n",
    "}\n",
    "\n",
    "sbu_data = {\n",
    "    \"User\": [user.address for user in small_bad_users[:n]],\n",
    "    \"Health factor\": [user.health_factor for user in small_bad_users[:n]],\n",
    "    \"Borrowing in USD\": [user.loan_size for user in small_bad_users[:n]],\n",
    "    \"Risk adjusted collateral in USD\": [user.collateral_size for user in small_bad_users[:n]],\n",
    "    \"Collateral\": [user.formatted_collateral for user in small_bad_users[:n]],\n",
    "    \"Borrowings\": [user.formatted_borrowings for user in small_bad_users[:n]],\n",
    "}\n",
    "\n",
    "pandas.DataFrame(bbu_data).to_csv(\"large_loans_sample.csv\", index=False)\n",
    "pandas.DataFrame(sbu_data).to_csv(\"small_loans_sample.csv\", index=False)\n"
   ]
  }
 ],
 "metadata": {
  "kernelspec": {
   "display_name": "Python 3 (ipykernel)",
   "language": "python",
   "name": "python3"
  },
  "language_info": {
   "codemirror_mode": {
    "name": "ipython",
    "version": 3
   },
   "file_extension": ".py",
   "mimetype": "text/x-python",
   "name": "python",
   "nbconvert_exporter": "python",
   "pygments_lexer": "ipython3",
   "version": "3.9.2"
  }
 },
 "nbformat": 4,
 "nbformat_minor": 5
}
