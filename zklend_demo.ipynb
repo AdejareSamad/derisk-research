{
 "cells": [
  {
   "attachments": {},
   "cell_type": "markdown",
   "id": "79e6dcb2",
   "metadata": {},
   "source": [
    "# TODO: Zklend"
   ]
  },
  {
   "cell_type": "code",
   "execution_count": 30,
   "id": "e6a89c81",
   "metadata": {},
   "outputs": [],
   "source": [
    "from typing import Dict\n",
    "\n",
    "import IPython.display\n",
    "import pandas\n",
    "\n",
    "from classes import State, Prices\n",
    "#prices = classes.Prices()\n",
    "import constants\n",
    "import db\n",
    "\n",
    "import matplotlib.pyplot as plt \n"
   ]
  },
  {
   "attachments": {},
   "cell_type": "markdown",
   "id": "a0023a62",
   "metadata": {},
   "source": [
    "## Load and prepare events"
   ]
  },
  {
   "cell_type": "code",
   "execution_count": 5,
   "id": "2ad266bc",
   "metadata": {},
   "outputs": [
    {
     "name": "stderr",
     "output_type": "stream",
     "text": [
      "/tmp/ipykernel_345302/2710962983.py:5: UserWarning: pandas only supports SQLAlchemy connectable (engine/connection) or database string URI or sqlite3 DBAPI2 connection. Other DBAPI2 objects are not tested. Please consider using SQLAlchemy.\n",
      "  zklend_events = pandas.read_sql(\n"
     ]
    }
   ],
   "source": [
    "# Establish the connection.\n",
    "connection = db.establish_connection()\n",
    "\n",
    "# Load all Zklend events.\n",
    "zklend_events = pandas.read_sql(\n",
    "    sql = \n",
    "    f\"\"\"\n",
    "    SELECT\n",
    "        *\n",
    "    FROM\n",
    "        starkscan_events\n",
    "    WHERE\n",
    "        from_address='{constants.Protocol.ZKLEND.value}'\n",
    "    AND\n",
    "        key_name IN ('Deposit', 'Withdrawal', 'CollateralEnabled', 'CollateralDisabled', 'Borrowing', 'Repayment', 'Liquidation', 'AccumulatorsSync')\n",
    "    ORDER BY\n",
    "        block_number ASC, id;\n",
    "    \"\"\",\n",
    "    con = connection,\n",
    ")\n",
    "\n",
    "# Close the connection.\n",
    "connection.close()"
   ]
  },
  {
   "cell_type": "code",
   "execution_count": 6,
   "id": "d8cc1563",
   "metadata": {},
   "outputs": [],
   "source": [
    "zklend_events.set_index('id', inplace = True)"
   ]
  },
  {
   "attachments": {},
   "cell_type": "markdown",
   "id": "050eb37d",
   "metadata": {},
   "source": [
    "# Process events"
   ]
  },
  {
   "attachments": {},
   "cell_type": "markdown",
   "id": "95c2eeef",
   "metadata": {},
   "source": [
    "Events examples:\n",
    "- [Deposit](https://starkscan.co/event/0x036185142bb51e2c1f5bfdb1e6cef81f8ea87fd4d777990014249bf5435fd31b_3)\n",
    "- [AccumulatorsSync](https://starkscan.co/event/0x029628b89875a98c1c64ae206e7eb65669cb478a24449f3485f5e98aba6204dc_0)\n",
    "- [CollateralEnabled](https://starkscan.co/event/0x036185142bb51e2c1f5bfdb1e6cef81f8ea87fd4d777990014249bf5435fd31b_6)\n",
    "- [CollateralDisabled](https://starkscan.co/event/0x0049b445bed84e0118795dbd22d76610ccac2ad626f8f04a1fc7e38113c2afe7_0)\n",
    "- [Withdrawal](https://starkscan.co/event/0x03472cf7511687a55bc7247f8765c4bbd2c18b70e09b2a10a77c61f567bfd2cb_4)\n",
    "- [Borrowing](https://starkscan.co/event/0x076b1615750528635cf0b63ca80986b185acbd20fa37f0f2b5368a4f743931f8_3)\n",
    "- [Repayment](https://starkscan.co/event/0x06fa3dd6e12c9a66aeacd2eefa5a2ff2915dd1bb4207596de29bd0e8cdeeae66_5)\n",
    "- [Liquidation](https://starkscan.co/event/0x07b8ec709df1066d9334d56b426c45440ca1f1bb841285a5d7b33f9d1008f256_5)"
   ]
  },
  {
   "cell_type": "code",
   "execution_count": 7,
   "id": "d39cc54c",
   "metadata": {},
   "outputs": [],
   "source": [
    "# Iterate over ordered events to obtain the final state of each user.\n",
    "state = State()\n",
    "prices = Prices()\n",
    "for _, event in zklend_events.iterrows():\n",
    "    state.process_event(event = event)"
   ]
  },
  {
   "cell_type": "code",
   "execution_count": 13,
   "id": "ac1f0d83",
   "metadata": {},
   "outputs": [],
   "source": [
    "# Get current prices of tokens.\n",
    "#from classes import *\n",
    "#prices = classes.Prices()"
   ]
  },
  {
   "cell_type": "code",
   "execution_count": 15,
   "id": "96195027",
   "metadata": {},
   "outputs": [],
   "source": [
    "# Compute Health Factors \n",
    "from typing import Dict\n",
    "import collections\n",
    "import decimal\n",
    "import classes\n",
    "\n",
    "TOKEN_DECIMAL_FACTORS = {\n",
    "    \"ETH\": decimal.Decimal('1e18'),\n",
    "    \"wBTC\": decimal.Decimal('1e8'),\n",
    "    \"USDC\": decimal.Decimal('1e6'),\n",
    "    \"DAI\": decimal.Decimal('1e18'),\n",
    "    \"USDT\": decimal.Decimal('1e6'),\n",
    "}\n",
    "\n",
    "\n",
    "# Source: https://zklend.gitbook.io/documentation/using-zklend/technical/asset-parameters.\n",
    "COLLATERAL_FACTORS = {\n",
    "    \"ETH\": decimal.Decimal('0.80'),\n",
    "    \"wBTC\": decimal.Decimal('0.70'),\n",
    "    \"USDC\": decimal.Decimal('0.80'),\n",
    "    \"DAI\": decimal.Decimal('0.70'),\n",
    "    \"USDT\": decimal.Decimal('0.70'),\n",
    "}\n",
    "\n",
    "\n",
    "# Source: https://zklend.gitbook.io/documentation/using-zklend/technical/asset-parameters.\n",
    "LIQUIDATION_BONUSES = {\n",
    "    \"ETH\": decimal.Decimal('0.10'),\n",
    "    \"wBTC\": decimal.Decimal('0.15'),\n",
    "    \"USDC\": decimal.Decimal('0.10'),\n",
    "    \"DAI\": decimal.Decimal('0.10'),\n",
    "    \"USDT\": decimal.Decimal('0.10'),\n",
    "}\n",
    "\n",
    "\n",
    "def compute_risk_adjusted_collateral_usd(\n",
    "    user_state: classes.UserState,\n",
    "    prices: Dict[str, decimal.Decimal],\n",
    ") -> decimal.Decimal:\n",
    "    return sum(\n",
    "        token_state.collateral_enabled\n",
    "        * token_state.deposit\n",
    "        * COLLATERAL_FACTORS[token]\n",
    "        * prices[token]\n",
    "        # TODO: perform the conversion using TOKEN_DECIMAL_FACTORS sooner (in `UserTokenState`?)?\n",
    "        / TOKEN_DECIMAL_FACTORS[token]\n",
    "        for token, token_state\n",
    "        in user_state.token_states.items()\n",
    "    )\n",
    "\n",
    "\n",
    "def compute_borrowings_usd(\n",
    "    user_state: classes.UserState,\n",
    "    prices: Dict[str, decimal.Decimal],\n",
    ") -> decimal.Decimal:\n",
    "    return sum(\n",
    "        token_state.borrowings\n",
    "        * prices[token]\n",
    "        # TODO: perform the conversion using TOKEN_DECIMAL_FACTORS sooner (in `UserTokenState`?)?\n",
    "        / TOKEN_DECIMAL_FACTORS[token]\n",
    "        for token, token_state\n",
    "        in user_state.token_states.items()\n",
    "    )\n",
    "\n",
    "\n",
    "def compute_health_factor(\n",
    "    risk_adjusted_collateral_usd: decimal.Decimal,\n",
    "    borrowings_usd: decimal.Decimal,\n",
    ") -> decimal.Decimal:\n",
    "    if borrowings_usd == decimal.Decimal('0'):\n",
    "        # TODO: assumes collateral is positive\n",
    "        return decimal.Decimal('Inf')\n",
    "\n",
    "    health_factor = risk_adjusted_collateral_usd / borrowings_usd\n",
    "    # TODO: enable?\n",
    "#     if health_factor < decimal.Decimal('0.9'):\n",
    "#         print(f'Suspiciously low health factor = {health_factor} of user = {user}, investigate.')\n",
    "    # TODO: too many loans eligible for liquidation?\n",
    "#     elif health_factor < decimal.Decimal('1'):\n",
    "#         print(f'Health factor = {health_factor} of user = {user} eligible for liquidation.')\n",
    "    return health_factor"
   ]
  },
  {
   "cell_type": "code",
   "execution_count": 16,
   "id": "40646e2b",
   "metadata": {},
   "outputs": [],
   "source": [
    "for user, user_state in state.user_states.items():\n",
    "    risk_adjusted_collateral_usd = compute_risk_adjusted_collateral_usd(\n",
    "        user_state = user_state,\n",
    "        prices = prices.prices,\n",
    "    )\n",
    "    borrowings_usd = compute_borrowings_usd(\n",
    "        user_state = user_state,\n",
    "        prices = prices.prices,\n",
    "    )\n",
    "    health_factor = compute_health_factor(\n",
    "        risk_adjusted_collateral_usd = risk_adjusted_collateral_usd,\n",
    "        borrowings_usd = borrowings_usd,\n",
    "    )"
   ]
  },
  {
   "cell_type": "code",
   "execution_count": 17,
   "id": "11d8b162",
   "metadata": {},
   "outputs": [],
   "source": [
    "# Compute Max Liquidation Borrowings \n",
    "def compute_borrowings_to_be_liquidated(\n",
    "    risk_adjusted_collateral_usd: decimal.Decimal,\n",
    "    borrowings_usd: decimal.Decimal,\n",
    "    borrowings_token_price: decimal.Decimal,\n",
    "    collateral_token_collateral_factor: decimal.Decimal,\n",
    "    collateral_token_liquidation_bonus: decimal.Decimal,\n",
    ") -> decimal.Decimal:\n",
    "    # TODO: commit the derivation of the formula in a document?\n",
    "    numerator = borrowings_usd - risk_adjusted_collateral_usd\n",
    "    denominator = borrowings_token_price * (\n",
    "        1 - collateral_token_collateral_factor * (\n",
    "            1 + collateral_token_liquidation_bonus\n",
    "        )\n",
    "    )\n",
    "    return numerator / denominator\n",
    "\n",
    "\n",
    "def compute_max_liquidated_amount(\n",
    "    state: classes.State,\n",
    "    prices: Dict[str, decimal.Decimal],\n",
    "    borrowings_token: str,\n",
    ") -> decimal.Decimal:\n",
    "    liquidated_borrowings_amount = decimal.Decimal('0')\n",
    "    for user, user_state in state.user_states.items():\n",
    "        # TODO: do this?\n",
    "        # Filter out users who borrowed the token of interest.\n",
    "        borrowings_tokens = {\n",
    "            token_state.token\n",
    "            for token_state in user_state.token_states.values()\n",
    "            if token_state.borrowings > decimal.Decimal('0')\n",
    "        }\n",
    "        if not borrowings_token in borrowings_tokens:\n",
    "            continue\n",
    "\n",
    "        # Filter out users with health below 1.\n",
    "        risk_adjusted_collateral_usd = compute_risk_adjusted_collateral_usd(\n",
    "            user_state = user_state,\n",
    "            prices = prices,\n",
    "        )\n",
    "        borrowings_usd = compute_borrowings_usd(\n",
    "            user_state = user_state,\n",
    "            prices = prices,\n",
    "        )\n",
    "        health_factor = compute_health_factor(\n",
    "            risk_adjusted_collateral_usd = risk_adjusted_collateral_usd,\n",
    "            borrowings_usd = borrowings_usd,\n",
    "        )\n",
    "        if health_factor >= decimal.Decimal('1'):\n",
    "            continue\n",
    "\n",
    "        # TODO: find out how much of the borrowings_token will be liquidated\n",
    "        collateral_tokens = {\n",
    "            token_state.token\n",
    "            for token_state in user_state.token_states.values()\n",
    "            if token_state.deposit * token_state.collateral_enabled > decimal.Decimal('0')\n",
    "        }\n",
    "        # TODO: choose the most optimal collateral_token to be liquidated .. or is the liquidator indifferent?\n",
    "        collateral_token = list(collateral_tokens)[0]\n",
    "        liquidated_borrowings_amount += compute_borrowings_to_be_liquidated(\n",
    "            risk_adjusted_collateral_usd = risk_adjusted_collateral_usd,\n",
    "            borrowings_usd = borrowings_usd,\n",
    "            borrowings_token_price = prices[borrowings_token],\n",
    "            collateral_token_collateral_factor = COLLATERAL_FACTORS[collateral_token],\n",
    "            collateral_token_liquidation_bonus = LIQUIDATION_BONUSES[collateral_token],\n",
    "        )\n",
    "    return liquidated_borrowings_amount\n",
    "\n"
   ]
  },
  {
   "cell_type": "code",
   "execution_count": 19,
   "id": "55c52216",
   "metadata": {},
   "outputs": [],
   "source": [
    "import copy\n",
    "\n",
    "\n",
    "COLLATERAL_TOKEN = 'wBTC'\n",
    "BORROWINGS_TOKEN = 'USDC'\n",
    "COLLATERAL_TOKEN_PRICE_MULTIPLIER = decimal.Decimal('0.99')\n",
    "\n",
    "\n",
    "def simulate_liquidations_under_price_change(\n",
    "    prices: classes.Prices,\n",
    "    collateral_token: str,\n",
    "    collateral_token_price_multiplier: decimal.Decimal,\n",
    "    state: classes.State,\n",
    "    borrowings_token: str,\n",
    ") -> decimal.Decimal:\n",
    "    changed_prices = copy.deepcopy(prices.prices)\n",
    "    changed_prices[collateral_token] *= collateral_token_price_multiplier\n",
    "    return compute_max_liquidated_amount(state = state, prices = changed_prices, borrowings_token = borrowings_token)\n",
    "\n",
    "\n",
    "    simulate_liquidations_under_price_change(\n",
    "        prices = prices,\n",
    "        collateral_token = COLLATERAL_TOKEN,\n",
    "        collateral_token_price_multiplier = COLLATERAL_TOKEN_PRICE_MULTIPLIER,\n",
    "        state = state,\n",
    "        borrowings_token = BORROWINGS_TOKEN,\n",
    "    )"
   ]
  },
  {
   "cell_type": "code",
   "execution_count": 33,
   "id": "341e4083",
   "metadata": {},
   "outputs": [
    {
     "ename": "IndexError",
     "evalue": "list index out of range",
     "output_type": "error",
     "traceback": [
      "\u001b[0;31m---------------------------------------------------------------------------\u001b[0m",
      "\u001b[0;31mIndexError\u001b[0m                                Traceback (most recent call last)",
      "Cell \u001b[0;32mIn[33], line 29\u001b[0m\n\u001b[1;32m     14\u001b[0m data \u001b[39m=\u001b[39m pandas\u001b[39m.\u001b[39mDataFrame(\n\u001b[1;32m     15\u001b[0m     {\n\u001b[1;32m     16\u001b[0m         \u001b[39m'\u001b[39m\u001b[39mcollateral_token_price_multiplier\u001b[39m\u001b[39m'\u001b[39m: [\n\u001b[0;32m   (...)\u001b[0m\n\u001b[1;32m     25\u001b[0m     },\n\u001b[1;32m     26\u001b[0m )\n\u001b[1;32m     27\u001b[0m data[\u001b[39m'\u001b[39m\u001b[39mcollateral_token_price_multiplier\u001b[39m\u001b[39m'\u001b[39m] \u001b[39m=\u001b[39m data[\u001b[39m'\u001b[39m\u001b[39mcollateral_token_price_multiplier\u001b[39m\u001b[39m'\u001b[39m]\u001b[39m.\u001b[39mmap(decimal\u001b[39m.\u001b[39mDecimal)\n\u001b[1;32m     28\u001b[0m data[\u001b[39m'\u001b[39m\u001b[39mmax_borrowings_to_be_liquidated\u001b[39m\u001b[39m'\u001b[39m] \u001b[39m=\u001b[39m \\\n\u001b[0;32m---> 29\u001b[0m     data[\u001b[39m'\u001b[39;49m\u001b[39mcollateral_token_price_multiplier\u001b[39;49m\u001b[39m'\u001b[39;49m]\u001b[39m.\u001b[39;49mapply(\n\u001b[1;32m     30\u001b[0m         \u001b[39mlambda\u001b[39;49;00m x: simulate_liquidations_under_price_change(\n\u001b[1;32m     31\u001b[0m             prices \u001b[39m=\u001b[39;49m prices,\n\u001b[1;32m     32\u001b[0m             collateral_token \u001b[39m=\u001b[39;49m COLLATERAL_TOKEN,\n\u001b[1;32m     33\u001b[0m             collateral_token_price_multiplier \u001b[39m=\u001b[39;49m x,\n\u001b[1;32m     34\u001b[0m             state \u001b[39m=\u001b[39;49m state,\n\u001b[1;32m     35\u001b[0m             borrowings_token \u001b[39m=\u001b[39;49m BORROWINGS_TOKEN,\n\u001b[1;32m     36\u001b[0m         )\n\u001b[1;32m     37\u001b[0m     )\n\u001b[1;32m     38\u001b[0m data\n",
      "File \u001b[0;32m~/.local/lib/python3.9/site-packages/pandas/core/series.py:4630\u001b[0m, in \u001b[0;36mSeries.apply\u001b[0;34m(self, func, convert_dtype, args, **kwargs)\u001b[0m\n\u001b[1;32m   4520\u001b[0m \u001b[39mdef\u001b[39;00m \u001b[39mapply\u001b[39m(\n\u001b[1;32m   4521\u001b[0m     \u001b[39mself\u001b[39m,\n\u001b[1;32m   4522\u001b[0m     func: AggFuncType,\n\u001b[0;32m   (...)\u001b[0m\n\u001b[1;32m   4525\u001b[0m     \u001b[39m*\u001b[39m\u001b[39m*\u001b[39mkwargs,\n\u001b[1;32m   4526\u001b[0m ) \u001b[39m-\u001b[39m\u001b[39m>\u001b[39m DataFrame \u001b[39m|\u001b[39m Series:\n\u001b[1;32m   4527\u001b[0m \u001b[39m    \u001b[39m\u001b[39m\"\"\"\u001b[39;00m\n\u001b[1;32m   4528\u001b[0m \u001b[39m    Invoke function on values of Series.\u001b[39;00m\n\u001b[1;32m   4529\u001b[0m \n\u001b[0;32m   (...)\u001b[0m\n\u001b[1;32m   4628\u001b[0m \u001b[39m    dtype: float64\u001b[39;00m\n\u001b[1;32m   4629\u001b[0m \u001b[39m    \"\"\"\u001b[39;00m\n\u001b[0;32m-> 4630\u001b[0m     \u001b[39mreturn\u001b[39;00m SeriesApply(\u001b[39mself\u001b[39;49m, func, convert_dtype, args, kwargs)\u001b[39m.\u001b[39;49mapply()\n",
      "File \u001b[0;32m~/.local/lib/python3.9/site-packages/pandas/core/apply.py:1025\u001b[0m, in \u001b[0;36mSeriesApply.apply\u001b[0;34m(self)\u001b[0m\n\u001b[1;32m   1022\u001b[0m     \u001b[39mreturn\u001b[39;00m \u001b[39mself\u001b[39m\u001b[39m.\u001b[39mapply_str()\n\u001b[1;32m   1024\u001b[0m \u001b[39m# self.f is Callable\u001b[39;00m\n\u001b[0;32m-> 1025\u001b[0m \u001b[39mreturn\u001b[39;00m \u001b[39mself\u001b[39;49m\u001b[39m.\u001b[39;49mapply_standard()\n",
      "File \u001b[0;32m~/.local/lib/python3.9/site-packages/pandas/core/apply.py:1076\u001b[0m, in \u001b[0;36mSeriesApply.apply_standard\u001b[0;34m(self)\u001b[0m\n\u001b[1;32m   1074\u001b[0m     \u001b[39melse\u001b[39;00m:\n\u001b[1;32m   1075\u001b[0m         values \u001b[39m=\u001b[39m obj\u001b[39m.\u001b[39mastype(\u001b[39mobject\u001b[39m)\u001b[39m.\u001b[39m_values\n\u001b[0;32m-> 1076\u001b[0m         mapped \u001b[39m=\u001b[39m lib\u001b[39m.\u001b[39;49mmap_infer(\n\u001b[1;32m   1077\u001b[0m             values,\n\u001b[1;32m   1078\u001b[0m             f,\n\u001b[1;32m   1079\u001b[0m             convert\u001b[39m=\u001b[39;49m\u001b[39mself\u001b[39;49m\u001b[39m.\u001b[39;49mconvert_dtype,\n\u001b[1;32m   1080\u001b[0m         )\n\u001b[1;32m   1082\u001b[0m \u001b[39mif\u001b[39;00m \u001b[39mlen\u001b[39m(mapped) \u001b[39mand\u001b[39;00m \u001b[39misinstance\u001b[39m(mapped[\u001b[39m0\u001b[39m], ABCSeries):\n\u001b[1;32m   1083\u001b[0m     \u001b[39m# GH#43986 Need to do list(mapped) in order to get treated as nested\u001b[39;00m\n\u001b[1;32m   1084\u001b[0m     \u001b[39m#  See also GH#25959 regarding EA support\u001b[39;00m\n\u001b[1;32m   1085\u001b[0m     \u001b[39mreturn\u001b[39;00m obj\u001b[39m.\u001b[39m_constructor_expanddim(\u001b[39mlist\u001b[39m(mapped), index\u001b[39m=\u001b[39mobj\u001b[39m.\u001b[39mindex)\n",
      "File \u001b[0;32m~/.local/lib/python3.9/site-packages/pandas/_libs/lib.pyx:2834\u001b[0m, in \u001b[0;36mpandas._libs.lib.map_infer\u001b[0;34m()\u001b[0m\n",
      "Cell \u001b[0;32mIn[33], line 30\u001b[0m, in \u001b[0;36m<lambda>\u001b[0;34m(x)\u001b[0m\n\u001b[1;32m     14\u001b[0m data \u001b[39m=\u001b[39m pandas\u001b[39m.\u001b[39mDataFrame(\n\u001b[1;32m     15\u001b[0m     {\n\u001b[1;32m     16\u001b[0m         \u001b[39m'\u001b[39m\u001b[39mcollateral_token_price_multiplier\u001b[39m\u001b[39m'\u001b[39m: [\n\u001b[0;32m   (...)\u001b[0m\n\u001b[1;32m     25\u001b[0m     },\n\u001b[1;32m     26\u001b[0m )\n\u001b[1;32m     27\u001b[0m data[\u001b[39m'\u001b[39m\u001b[39mcollateral_token_price_multiplier\u001b[39m\u001b[39m'\u001b[39m] \u001b[39m=\u001b[39m data[\u001b[39m'\u001b[39m\u001b[39mcollateral_token_price_multiplier\u001b[39m\u001b[39m'\u001b[39m]\u001b[39m.\u001b[39mmap(decimal\u001b[39m.\u001b[39mDecimal)\n\u001b[1;32m     28\u001b[0m data[\u001b[39m'\u001b[39m\u001b[39mmax_borrowings_to_be_liquidated\u001b[39m\u001b[39m'\u001b[39m] \u001b[39m=\u001b[39m \\\n\u001b[1;32m     29\u001b[0m     data[\u001b[39m'\u001b[39m\u001b[39mcollateral_token_price_multiplier\u001b[39m\u001b[39m'\u001b[39m]\u001b[39m.\u001b[39mapply(\n\u001b[0;32m---> 30\u001b[0m         \u001b[39mlambda\u001b[39;00m x: simulate_liquidations_under_price_change(\n\u001b[1;32m     31\u001b[0m             prices \u001b[39m=\u001b[39;49m prices,\n\u001b[1;32m     32\u001b[0m             collateral_token \u001b[39m=\u001b[39;49m COLLATERAL_TOKEN,\n\u001b[1;32m     33\u001b[0m             collateral_token_price_multiplier \u001b[39m=\u001b[39;49m x,\n\u001b[1;32m     34\u001b[0m             state \u001b[39m=\u001b[39;49m state,\n\u001b[1;32m     35\u001b[0m             borrowings_token \u001b[39m=\u001b[39;49m BORROWINGS_TOKEN,\n\u001b[1;32m     36\u001b[0m         )\n\u001b[1;32m     37\u001b[0m     )\n\u001b[1;32m     38\u001b[0m data\n",
      "Cell \u001b[0;32mIn[19], line 18\u001b[0m, in \u001b[0;36msimulate_liquidations_under_price_change\u001b[0;34m(prices, collateral_token, collateral_token_price_multiplier, state, borrowings_token)\u001b[0m\n\u001b[1;32m     16\u001b[0m changed_prices \u001b[39m=\u001b[39m copy\u001b[39m.\u001b[39mdeepcopy(prices\u001b[39m.\u001b[39mprices)\n\u001b[1;32m     17\u001b[0m changed_prices[collateral_token] \u001b[39m*\u001b[39m\u001b[39m=\u001b[39m collateral_token_price_multiplier\n\u001b[0;32m---> 18\u001b[0m \u001b[39mreturn\u001b[39;00m compute_max_liquidated_amount(state \u001b[39m=\u001b[39;49m state, prices \u001b[39m=\u001b[39;49m changed_prices, borrowings_token \u001b[39m=\u001b[39;49m borrowings_token)\n\u001b[1;32m     21\u001b[0m simulate_liquidations_under_price_change(\n\u001b[1;32m     22\u001b[0m     prices \u001b[39m=\u001b[39m prices,\n\u001b[1;32m     23\u001b[0m     collateral_token \u001b[39m=\u001b[39m COLLATERAL_TOKEN,\n\u001b[0;32m   (...)\u001b[0m\n\u001b[1;32m     26\u001b[0m     borrowings_token \u001b[39m=\u001b[39m BORROWINGS_TOKEN,\n\u001b[1;32m     27\u001b[0m )\n",
      "Cell \u001b[0;32mIn[17], line 59\u001b[0m, in \u001b[0;36mcompute_max_liquidated_amount\u001b[0;34m(state, prices, borrowings_token)\u001b[0m\n\u001b[1;32m     53\u001b[0m     collateral_tokens \u001b[39m=\u001b[39m {\n\u001b[1;32m     54\u001b[0m         token_state\u001b[39m.\u001b[39mtoken\n\u001b[1;32m     55\u001b[0m         \u001b[39mfor\u001b[39;00m token_state \u001b[39min\u001b[39;00m user_state\u001b[39m.\u001b[39mtoken_states\u001b[39m.\u001b[39mvalues()\n\u001b[1;32m     56\u001b[0m         \u001b[39mif\u001b[39;00m token_state\u001b[39m.\u001b[39mdeposit \u001b[39m*\u001b[39m token_state\u001b[39m.\u001b[39mcollateral_enabled \u001b[39m>\u001b[39m decimal\u001b[39m.\u001b[39mDecimal(\u001b[39m'\u001b[39m\u001b[39m0\u001b[39m\u001b[39m'\u001b[39m)\n\u001b[1;32m     57\u001b[0m     }\n\u001b[1;32m     58\u001b[0m     \u001b[39m# TODO: choose the most optimal collateral_token to be liquidated .. or is the liquidator indifferent?\u001b[39;00m\n\u001b[0;32m---> 59\u001b[0m     collateral_token \u001b[39m=\u001b[39m \u001b[39mlist\u001b[39;49m(collateral_tokens)[\u001b[39m0\u001b[39;49m]\n\u001b[1;32m     60\u001b[0m     liquidated_borrowings_amount \u001b[39m+\u001b[39m\u001b[39m=\u001b[39m compute_borrowings_to_be_liquidated(\n\u001b[1;32m     61\u001b[0m         risk_adjusted_collateral_usd \u001b[39m=\u001b[39m risk_adjusted_collateral_usd,\n\u001b[1;32m     62\u001b[0m         borrowings_usd \u001b[39m=\u001b[39m borrowings_usd,\n\u001b[0;32m   (...)\u001b[0m\n\u001b[1;32m     65\u001b[0m         collateral_token_liquidation_bonus \u001b[39m=\u001b[39m LIQUIDATION_BONUSES[collateral_token],\n\u001b[1;32m     66\u001b[0m     )\n\u001b[1;32m     67\u001b[0m \u001b[39mreturn\u001b[39;00m liquidated_borrowings_amount\n",
      "\u001b[0;31mIndexError\u001b[0m: list index out of range"
     ]
    }
   ],
   "source": [
    "import numpy\n",
    "\n",
    "\n",
    "COLLATERAL_TOKEN = 'ETH'\n",
    "BORROWINGS_TOKEN = 'USDC'\n",
    "\n",
    "\n",
    "def decimal_range(start: decimal.Decimal, stop: decimal.Decimal, step: decimal.Decimal):\n",
    "    while start < stop:\n",
    "        yield start\n",
    "        start += step\n",
    "\n",
    "\n",
    "data = pandas.DataFrame(\n",
    "    {\n",
    "        'collateral_token_price_multiplier': [\n",
    "            x\n",
    "            for x\n",
    "            in decimal_range(\n",
    "                start = decimal.Decimal('0.5'),\n",
    "                stop = decimal.Decimal('1.51'),\n",
    "                step = decimal.Decimal('0.01'),\n",
    "            )\n",
    "        ]\n",
    "    },\n",
    ")\n",
    "data['collateral_token_price_multiplier'] = data['collateral_token_price_multiplier'].map(decimal.Decimal)\n",
    "data['max_borrowings_to_be_liquidated'] = \\\n",
    "    data['collateral_token_price_multiplier'].apply(\n",
    "        lambda x: simulate_liquidations_under_price_change(\n",
    "            prices = prices,\n",
    "            collateral_token = COLLATERAL_TOKEN,\n",
    "            collateral_token_price_multiplier = x,\n",
    "            state = state,\n",
    "            borrowings_token = BORROWINGS_TOKEN,\n",
    "        )\n",
    "    )\n",
    "data\n"
   ]
  },
  {
   "cell_type": "code",
   "execution_count": 26,
   "id": "98423cc2",
   "metadata": {},
   "outputs": [],
   "source": [
    "#import plotly.express\n",
    "\n",
    "#figure = plotly.express.bar(x = 'collateral_token_price_multiplier', y = 'max_borrowings_to_be_liquidated')\n",
    "#figure.show()"
   ]
  },
  {
   "attachments": {},
   "cell_type": "markdown",
   "id": "2aa4c259",
   "metadata": {},
   "source": [
    "# TODO: Debugging negative deposits below"
   ]
  },
  {
   "cell_type": "code",
   "execution_count": 23,
   "id": "c914fc0f",
   "metadata": {
    "scrolled": false
   },
   "outputs": [
    {
     "name": "stdout",
     "output_type": "stream",
     "text": [
      "Action   Token   Raw value   Raw $   Readable $\n",
      "deposit ETH -5664598294961056416.478305722 $-10582.31930473149805963616053 $-10582.31930\n",
      "deposit wBTC -152606.7275111500126986956235 $-46.36192381788737385786373042 $-46.36192\n",
      "deposit USDC -5342655434.340521419018333909 $-5337.157841898585307647581885 $-5337.15784\n",
      "deposit DAI -189817314514137233439.1568486 $-189.7123455392109106720459624 $-189.71235\n",
      "deposit USDT -299418009.8303883409414079880 $-299.3608209905107211269602429 $-299.36082\n",
      "borrowings ETH -778520881882813324 $-1454.393785489377782036661729 $-1454.39379\n",
      "borrowings wBTC -106514 $-32.35895320 $-32.35895\n",
      "borrowings USDC -5030122374 $-5024.946378077154268487662492 $-5024.94638\n",
      "borrowings DAI -490397886374677978257 $-490.1266963435127687351204854 $-490.12670\n",
      "borrowings USDT -2272131644 $-2271.697666855995881305883444 $-2271.69767\n"
     ]
    }
   ],
   "source": [
    "# TODO: negative deposits?\n",
    "print(\"Action   Token   Raw value   Raw $   Readable $\")\n",
    "for attr in ['deposit', 'borrowings']:\n",
    "    for token in ['ETH', 'wBTC', 'USDC', 'DAI', 'USDT']:\n",
    "        values = [getattr(user_state.token_states[token], attr) for user, user_state in state.user_states.items()]\n",
    "        print(attr, token, pandas.Series(values).min(), f\"${prices.to_dollars(pandas.Series(values).min(), token)}\", prices.to_dollars_pretty(pandas.Series(values).min(), token))"
   ]
  },
  {
   "cell_type": "code",
   "execution_count": null,
   "id": "c5d29ea2",
   "metadata": {},
   "outputs": [
    {
     "data": {
      "text/plain": [
       "[('0x4a587e33647247ed71d178b25155a27463765f7c113f05904126692d348cab1',\n",
       "  Decimal('-4997676.927172805096183238170'))]"
      ]
     },
     "execution_count": 13,
     "metadata": {},
     "output_type": "execute_result"
    }
   ],
   "source": [
    "# TODO: show negative deposits\n",
    "[\n",
    "    (user, user_state.token_states['USDT'].deposit)\n",
    "    for user, user_state\n",
    "    in state.user_states.items()\n",
    "    if user_state.token_states['USDT'].deposit < 0\n",
    "]"
   ]
  },
  {
   "cell_type": "code",
   "execution_count": null,
   "id": "923e38b1",
   "metadata": {},
   "outputs": [],
   "source": []
  },
  {
   "cell_type": "code",
   "execution_count": null,
   "id": "90d60df3",
   "metadata": {},
   "outputs": [],
   "source": []
  },
  {
   "cell_type": "code",
   "execution_count": null,
   "id": "76e268dc",
   "metadata": {},
   "outputs": [],
   "source": []
  },
  {
   "cell_type": "code",
   "execution_count": null,
   "id": "f7e6cd40",
   "metadata": {},
   "outputs": [],
   "source": []
  },
  {
   "cell_type": "code",
   "execution_count": null,
   "id": "6875467b",
   "metadata": {},
   "outputs": [],
   "source": []
  },
  {
   "cell_type": "code",
   "execution_count": null,
   "id": "ea52f620",
   "metadata": {},
   "outputs": [],
   "source": [
    "# TODO: Get token prices here: https://www.coingecko.com/en/api/documentation"
   ]
  },
  {
   "cell_type": "code",
   "execution_count": null,
   "id": "676995ce",
   "metadata": {},
   "outputs": [],
   "source": []
  }
 ],
 "metadata": {
  "kernelspec": {
   "display_name": "Python 3 (ipykernel)",
   "language": "python",
   "name": "python3"
  },
  "language_info": {
   "codemirror_mode": {
    "name": "ipython",
    "version": 3
   },
   "file_extension": ".py",
   "mimetype": "text/x-python",
   "name": "python",
   "nbconvert_exporter": "python",
   "pygments_lexer": "ipython3",
   "version": "3.9.2"
  }
 },
 "nbformat": 4,
 "nbformat_minor": 5
}
