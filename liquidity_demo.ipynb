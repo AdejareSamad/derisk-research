{
 "cells": [
  {
   "cell_type": "markdown",
   "metadata": {},
   "source": [
    "# Swap AMM Liquidity showcase"
   ]
  },
  {
   "cell_type": "code",
   "execution_count": null,
   "metadata": {},
   "outputs": [],
   "source": [
    "import decimal\n",
    "\n",
    "import src.constants as constants\n",
    "from src.swap_liquidity import get_jediswap, get_myswap, get_sithswap, get_tenkswap\n",
    "\n",
    "\n",
    "jediswap = await get_jediswap()\n",
    "sithswap = await get_sithswap()\n",
    "tenkswap = await get_tenkswap()\n",
    "myswap = await get_myswap()\n",
    "\n",
    "for amm in [jediswap, sithswap, tenkswap, myswap]:\n",
    "    for token in amm.get_pool(\"ETH\", \"USDC\").tokens:\n",
    "        print(amm.name, token.balance_converted, token.symbol)\n"
   ]
  },
  {
   "cell_type": "code",
   "execution_count": null,
   "metadata": {},
   "outputs": [],
   "source": [
    "# Compute supply of tokens at given price (amount of tokens which can be swapped while not moving their price by more than 5%.\n",
    "BUY_TOKEN = 'USDC'\n",
    "SELL_TOKEN = 'ETH'\n",
    "CURRENT_PRICE = decimal.Decimal('1908')\n",
    "\n",
    "token_supply = jediswap.get_pool(SELL_TOKEN, BUY_TOKEN).supply_at_price(BUY_TOKEN, CURRENT_PRICE)\n",
    "print(token_supply)\n",
    "\n",
    "# Simulate the actual swap.\n",
    "base_amount = token_supply * 10 ** 6\n",
    "sell_token_price = jediswap.get_pool(SELL_TOKEN, BUY_TOKEN).buy_tokens(BUY_TOKEN, base_amount)\n",
    "print(\n",
    "    \"Bought\",\n",
    "    token_supply,\n",
    "    f\"of {BUY_TOKEN} for\",\n",
    "    sell_token_price / decimal.Decimal(f'1e{constants.symbol_decimals_map[SELL_TOKEN]}'),\n",
    "    SELL_TOKEN,\n",
    "    'with an average price of',\n",
    "    token_supply / (sell_token_price / decimal.Decimal(f'1e{constants.symbol_decimals_map[SELL_TOKEN]}')),\n",
    ")"
   ]
  },
  {
   "cell_type": "code",
   "execution_count": null,
   "metadata": {},
   "outputs": [],
   "source": [
    "# describe swap amm state\n",
    "for pool in jediswap.pools.values():\n",
    "    for token in pool.tokens:\n",
    "        attributes = vars(token)\n",
    "        for attr, value in attributes.items():\n",
    "            print(f\"{attr}: {value}\")"
   ]
  },
  {
   "cell_type": "code",
   "execution_count": null,
   "metadata": {},
   "outputs": [],
   "source": [
    "# repeatedly buy amount of ETH and check that the price changes\n",
    "converted_amount = 1\n",
    "base_amount = converted_amount * 10**18\n",
    "for _ in range(10):\n",
    "    usdc_price = jediswap.get_pool(\"ETH\", \"USDC\").buy_tokens(\"ETH\", base_amount)\n",
    "    print(\"bought\", converted_amount, \"ETH for\", usdc_price / 10**6, \"USDC\")"
   ]
  }
 ],
 "metadata": {
  "kernelspec": {
   "display_name": "Python 3 (ipykernel)",
   "language": "python",
   "name": "python3"
  },
  "language_info": {
   "codemirror_mode": {
    "name": "ipython",
    "version": 3
   },
   "file_extension": ".py",
   "mimetype": "text/x-python",
   "name": "python",
   "nbconvert_exporter": "python",
   "pygments_lexer": "ipython3",
   "version": "3.9.6"
  }
 },
 "nbformat": 4,
 "nbformat_minor": 2
}
