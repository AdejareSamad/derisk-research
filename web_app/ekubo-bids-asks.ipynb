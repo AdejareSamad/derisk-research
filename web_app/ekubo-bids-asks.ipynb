{
 "cells": [
  {
   "cell_type": "code",
   "execution_count": 5,
   "metadata": {},
   "outputs": [
    {
     "name": "stdout",
     "output_type": "stream",
     "text": [
      "The autoreload extension is already loaded. To reload it, use:\n",
      "  %reload_ext autoreload\n"
     ]
    }
   ],
   "source": [
    "%load_ext autoreload\n",
    "%autoreload 2"
   ]
  },
  {
   "cell_type": "code",
   "execution_count": 6,
   "metadata": {},
   "outputs": [],
   "source": [
    "import sys\n",
    "sys.path.append('./')"
   ]
  },
  {
   "cell_type": "code",
   "execution_count": 7,
   "metadata": {},
   "outputs": [],
   "source": [
    "from decimal import Decimal\n",
    "import math \n",
    "import matplotlib.pyplot as plt\n",
    "import seaborn as sns\n",
    "import numpy as np\n",
    "import pandas as pd"
   ]
  },
  {
   "cell_type": "code",
   "execution_count": 8,
   "metadata": {},
   "outputs": [],
   "source": [
    "from web_app.ekubo.main import EkuboAPIConnector, EkuboOrderBook\n",
    "connector = EkuboAPIConnector()\n",
    "\n",
    "TOKEN_A_DECIMALS = 18\n",
    "TOKEN_B_DECIMALS = 6\n",
    "\n",
    "token_a = \"0x49d36570d4e46f48e99674bd3fcc84644ddd6b96f7c741b1562b82f9e004dc7\"  # ETH\n",
    "token_b = (\n",
    "    \"0x53c91253bc9682c04929ca02ed00b3e423f6710d2ee7e0d5ebb06f3ecf368a8\"  # USDC\n",
    ")"
   ]
  },
  {
   "cell_type": "markdown",
   "metadata": {},
   "source": [
    "### Calculating bids and asks for single selected pool"
   ]
  },
  {
   "cell_type": "code",
   "execution_count": 9,
   "metadata": {},
   "outputs": [],
   "source": [
    "order_book = EkuboOrderBook(token_a, token_b)\n",
    "pool_states = connector.get_pools()\n",
    "df = pd.DataFrame(pool_states)\n",
    "pool_df = df.loc[\n",
    "    (df[\"token0\"] == token_a) & (df[\"token1\"] == token_b)\n",
    "]\n",
    "\n",
    "# Select one pool with specified fee, tick spacing (it should be the ETH/USDC pool with biggest TVL)\n",
    "\n",
    "pool_df = pool_df[\n",
    "    (pool_df['fee'].apply(lambda x: int(x, 0)) == 170141183460469235273462165868118016)\n",
    "    &\n",
    "    (pool_df['tick_spacing'].apply(lambda x: int(x)) == 1000)\n",
    "]\n"
   ]
  },
  {
   "cell_type": "code",
   "execution_count": 10,
   "metadata": {},
   "outputs": [],
   "source": [
    "row = pool_df.iloc[0]"
   ]
  },
  {
   "cell_type": "code",
   "execution_count": 11,
   "metadata": {},
   "outputs": [],
   "source": [
    "liquidity_data = connector.get_pool_liquidity(row['key_hash'])\n",
    "liquidity_data['data'] = sorted(liquidity_data['data'], key = lambda x: x['tick'])"
   ]
  },
  {
   "cell_type": "code",
   "execution_count": 12,
   "metadata": {},
   "outputs": [
    {
     "data": {
      "text/plain": [
       "{'fee': '170141183460469235273462165868118016',\n",
       " 'tick_spacing': 1000,\n",
       " 'extension': '0',\n",
       " 'volume0_24h': '615590757058289023676',\n",
       " 'volume1_24h': '2216702563776',\n",
       " 'fees0_24h': '307795378529143882',\n",
       " 'fees1_24h': '1108350481',\n",
       " 'tvl0_total': '215463153193439084288',\n",
       " 'tvl1_total': '1772100122148',\n",
       " 'tvl0_delta_24h': '-32957724803352507484',\n",
       " 'tvl1_delta_24h': '-200249167849'}"
      ]
     },
     "execution_count": 12,
     "metadata": {},
     "output_type": "execute_result"
    }
   ],
   "source": [
    "# Get info about pool directly from the api\n",
    "p = connector.get_pair_states(token_a, token_b)\n",
    "test_pool = sorted(p['topPools'], key = lambda x: int(x['tvl0_total']))[::-1][0]\n",
    "test_pool"
   ]
  },
  {
   "cell_type": "code",
   "execution_count": 13,
   "metadata": {},
   "outputs": [
    {
     "name": "stdout",
     "output_type": "stream",
     "text": [
      "215.4631531934391 1772100.122148\n"
     ]
    }
   ],
   "source": [
    "print(\n",
    "    int(test_pool['tvl0_total']) / 10**18, \n",
    "    int(test_pool['tvl1_total']) / 10**6\n",
    ")"
   ]
  },
  {
   "cell_type": "code",
   "execution_count": 58,
   "metadata": {},
   "outputs": [],
   "source": [
    "# Calculate asks\n",
    "ask_ticks = [i for i in liquidity_data['data'] if i['tick']>=row['tick']]\n",
    "asks = []\n",
    "glob_liq = Decimal(row['liquidity'])\n",
    "\n",
    "# Calculate for current tick (loops start with the next one)\n",
    "next_tick = ask_ticks[0]['tick']\n",
    "prev_tick = next_tick - row['tick_spacing'] \n",
    "\n",
    "prev_sqrt = order_book.get_sqrt_ratio(prev_tick) / 2**128\n",
    "next_sqrt = order_book.get_sqrt_ratio(next_tick) / 2**128\n",
    "\n",
    "supply = abs(((glob_liq / prev_sqrt) - (glob_liq / next_sqrt)) / 10**TOKEN_A_DECIMALS)\n",
    "price = order_book.tick_to_price(prev_tick)\n",
    "asks.append((price, supply))\n",
    "\n",
    "for i, tick in enumerate(ask_ticks):\n",
    "    if i == 0:\n",
    "        continue\n",
    "    glob_liq += Decimal(ask_ticks[i-1]['net_liquidity_delta_diff'])\n",
    "    prev_tick = Decimal(ask_ticks[i-1]['tick'])\n",
    "    curr_tick = Decimal(tick['tick'])\n",
    "    \n",
    "    prev_sqrt = order_book.get_sqrt_ratio(prev_tick) / 2**128\n",
    "    next_sqrt = order_book.get_sqrt_ratio(curr_tick) / 2**128\n",
    "\n",
    "    supply = abs(((glob_liq / prev_sqrt) - (glob_liq / next_sqrt)) / 10**TOKEN_A_DECIMALS)\n",
    "    price = order_book.tick_to_price(prev_tick)\n",
    "    asks.append((price, supply))\n",
    "    "
   ]
  },
  {
   "cell_type": "code",
   "execution_count": 55,
   "metadata": {},
   "outputs": [
    {
     "data": {
      "text/plain": [
       "Decimal('208.105417705606739')"
      ]
     },
     "execution_count": 55,
     "metadata": {},
     "output_type": "execute_result"
    }
   ],
   "source": [
    "sum(i[1] for i in asks)"
   ]
  },
  {
   "cell_type": "code",
   "execution_count": 57,
   "metadata": {},
   "outputs": [
    {
     "data": {
      "text/plain": [
       "Decimal('215.463153193439084')"
      ]
     },
     "execution_count": 57,
     "metadata": {},
     "output_type": "execute_result"
    }
   ],
   "source": [
    "Decimal(test_pool['tvl0_total']) / 10**18"
   ]
  },
  {
   "cell_type": "code",
   "execution_count": 61,
   "metadata": {},
   "outputs": [],
   "source": [
    "bid_ticks = [i for i in liquidity_data['data'] if i['tick']<=row['tick']][::-1]\n",
    "bids = []\n",
    "glob_liq = Decimal(row['liquidity'])\n",
    "\n",
    "next_tick = bid_ticks[0]['tick']\n",
    "prev_tick = next_tick + row['tick_spacing'] \n",
    "\n",
    "prev_sqrt = order_book.get_sqrt_ratio(prev_tick) / 2**128\n",
    "next_sqrt = order_book.get_sqrt_ratio(next_tick) / 2**128\n",
    "\n",
    "supply = abs(((glob_liq * prev_sqrt) - (glob_liq * next_sqrt)) / 10**TOKEN_B_DECIMALS)\n",
    "price = order_book.tick_to_price(prev_tick)\n",
    "bids.append((price, supply))\n",
    "\n",
    "for i, tick in enumerate(bid_ticks):\n",
    "    if i == 0:\n",
    "        continue\n",
    "    glob_liq -= Decimal(bid_ticks[i-1]['net_liquidity_delta_diff'])\n",
    "    prev_tick = Decimal(bid_ticks[i-1]['tick'])\n",
    "    curr_tick = Decimal(tick['tick'])\n",
    "    \n",
    "    prev_sqrt = order_book.get_sqrt_ratio(prev_tick) / 2**128\n",
    "    next_sqrt = order_book.get_sqrt_ratio(curr_tick) / 2**128\n",
    "\n",
    "    supply = abs(((glob_liq * prev_sqrt) - (glob_liq * next_sqrt))) / 10**TOKEN_B_DECIMALS\n",
    "    price = order_book.tick_to_price(prev_tick)\n",
    "    bids.append((price, supply))\n",
    "    "
   ]
  },
  {
   "cell_type": "code",
   "execution_count": 63,
   "metadata": {},
   "outputs": [
    {
     "data": {
      "text/plain": [
       "Decimal('1753886.78071443474')"
      ]
     },
     "execution_count": 63,
     "metadata": {},
     "output_type": "execute_result"
    }
   ],
   "source": [
    "sum(i[1] for i in bids) "
   ]
  },
  {
   "cell_type": "code",
   "execution_count": 64,
   "metadata": {},
   "outputs": [
    {
     "data": {
      "text/plain": [
       "Decimal('1772100.122148')"
      ]
     },
     "execution_count": 64,
     "metadata": {},
     "output_type": "execute_result"
    }
   ],
   "source": [
    "Decimal(test_pool['tvl1_total']) / 10**6"
   ]
  },
  {
   "cell_type": "code",
   "execution_count": null,
   "metadata": {},
   "outputs": [],
   "source": []
  }
 ],
 "metadata": {
  "kernelspec": {
   "display_name": "derisk_starknet_venv",
   "language": "python",
   "name": "python3"
  },
  "language_info": {
   "codemirror_mode": {
    "name": "ipython",
    "version": 3
   },
   "file_extension": ".py",
   "mimetype": "text/x-python",
   "name": "python",
   "nbconvert_exporter": "python",
   "pygments_lexer": "ipython3",
   "version": "3.10.14"
  }
 },
 "nbformat": 4,
 "nbformat_minor": 2
}
